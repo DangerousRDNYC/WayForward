{
 "cells": [
  {
   "cell_type": "code",
   "execution_count": 1,
   "metadata": {},
   "outputs": [],
   "source": [
    "import pandas as pd\n",
    "import numpy as np\n",
    "def Data_Setup(SectorString=''):\n",
    "    salary_data = pd.read_csv('Occupation_Salary.csv') \n",
    "    workstyles = pd.read_csv('Work Styles.csv')\n",
    "    workstyles['Data Value'] = workstyles.apply(lambda x: x['Data Value']/(5), axis = 1 )\n",
    "\n",
    "    workstylespivot = pd.pivot_table(workstyles, values='Data Value', index=['O*NET-SOC Code'],\n",
    "                    columns=['Element Name'], aggfunc=np.sum)\n",
    "\n",
    "    jobzones = pd.read_csv('Job Zones.csv') \n",
    "\n",
    "    workvalues = pd.read_csv('Work Values.csv')\n",
    "    workvalues['Score'] = workvalues.apply(lambda x: x['Score']/7, axis = 1 )\n",
    "\n",
    "    workvaluespivot = pd.pivot_table(workvalues, values='Score', index=['SOC Code'],\n",
    "                    columns=['Element Name'], aggfunc=np.sum)\n",
    "\n",
    "    master_table = salary_data[['OCC_CODE', 'Adj Code', 'OCC_TITLE','A_MEAN']]\n",
    "    master_table['Sector'] = master_table['Adj Code'].str[:2]\n",
    "\n",
    "    master_table = master_table.merge(jobzones, left_on='OCC_CODE', right_on='O*NET-SOC Code')\n",
    "    master_table = master_table.merge(workvaluespivot, left_on='OCC_CODE', right_on='SOC Code')\n",
    "    master_table = master_table.merge(workstylespivot, left_on='OCC_CODE', right_on='O*NET-SOC Code')\n",
    "    master_table = master_table[master_table['Sector'] == SectorString]\n",
    "   \n",
    "    return master_table\n"
   ]
  },
  {
   "cell_type": "code",
   "execution_count": 7,
   "metadata": {},
   "outputs": [
    {
     "data": {
      "text/html": [
       "\n",
       "        <iframe\n",
       "            width=\"100%\"\n",
       "            height=\"600px\"\n",
       "            src=\"https://plot.ly/~jstone11/17.embed\"\n",
       "            frameborder=\"0\"\n",
       "            allowfullscreen\n",
       "        ></iframe>\n",
       "        "
      ],
      "text/plain": [
       "<IPython.lib.display.IFrame at 0x7f2f5501f4a8>"
      ]
     },
     "execution_count": 7,
     "metadata": {},
     "output_type": "execute_result"
    }
   ],
   "source": [
    "import chart_studio\n",
    "import chart_studio.plotly as py\n",
    "chart_studio.tools.set_credentials_file(username='jstone11', api_key='VMhFeM8k0oykKfvkY0Ud')\n",
    "import plotly.express as px\n",
    "\n",
    "\n",
    "import pandas as pd\n",
    "mpg = Data_Setup(SectorString='15')\n",
    "\n",
    "fig = px.scatter(\n",
    "    mpg,\n",
    "    x='Achievement',\n",
    "    y='A_MEAN',\n",
    "    facet_col='Job Zone',\n",
    "    hover_name= 'OCC_TITLE',\n",
    "    category_orders={\"Job Zone\": [\"1. No Prep\", \"2. Some Prep\", \"3. Medium Prep\", \"4. Considerable Prep\", \"5. Extensive prep\"]}\n",
    "\n",
    ")\n",
    "\n",
    "py.iplot(fig)"
   ]
  }
 ],
 "metadata": {
  "kernelspec": {
   "display_name": "Python 3",
   "language": "python",
   "name": "python3"
  },
  "language_info": {
   "codemirror_mode": {
    "name": "ipython",
    "version": 3
   },
   "file_extension": ".py",
   "mimetype": "text/x-python",
   "name": "python",
   "nbconvert_exporter": "python",
   "pygments_lexer": "ipython3",
   "version": "3.7.3"
  }
 },
 "nbformat": 4,
 "nbformat_minor": 2
}
