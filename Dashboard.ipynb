{
 "cells": [
  {
   "cell_type": "code",
   "execution_count": 6,
   "metadata": {},
   "outputs": [],
   "source": [
    "import pandas as pd\n",
    "import numpy as np\n",
    "def Data_Setup():\n",
    "    salary_data = pd.read_csv('Occupation_Salary.csv') \n",
    "    workstyles = pd.read_csv('Work Styles.csv')\n",
    "    workstyles['Data Value'] = workstyles.apply(lambda x: x['Data Value']/5, axis = 1 )\n",
    "\n",
    "    workstylespivot = pd.pivot_table(workstyles, values='Data Value', index=['O*NET-SOC Code'],\n",
    "                    columns=['Element Name'], aggfunc=np.sum)\n",
    "\n",
    "    jobzones = pd.read_csv('Job Zones.csv') \n",
    "\n",
    "    workvalues = pd.read_csv('Work Values.csv')\n",
    "    workvalues['Score'] = workvalues.apply(lambda x: x['Score']/7, axis = 1 )\n",
    "\n",
    "    workvaluespivot = pd.pivot_table(workvalues, values='Score', index=['SOC Code'],\n",
    "                    columns=['Element Name'], aggfunc=np.sum)\n",
    "\n",
    "    master_table = salary_data[['OCC_CODE', 'Adj Code', 'OCC_TITLE','A_MEAN']]\n",
    "    master_table['Sector'] = master_table['Adj Code'].str[:2]\n",
    "\n",
    "    master_table = master_table.merge(jobzones, left_on='OCC_CODE', right_on='O*NET-SOC Code')\n",
    "    master_table = master_table.merge(workvaluespivot, left_on='OCC_CODE', right_on='SOC Code')\n",
    "    master_table = master_table.merge(workstylespivot, left_on='OCC_CODE', right_on='O*NET-SOC Code')\n",
    "    return master_table"
   ]
  },
  {
   "cell_type": "code",
   "execution_count": 19,
   "metadata": {},
   "outputs": [
    {
     "data": {
      "text/html": [
       "\n",
       "        <iframe\n",
       "            width=\"600px\"\n",
       "            height=\"600px\"\n",
       "            src=\"https://plot.ly/~jarstone/0.embed\"\n",
       "            frameborder=\"0\"\n",
       "            allowfullscreen\n",
       "        ></iframe>\n",
       "        "
      ],
      "text/plain": [
       "<IPython.lib.display.IFrame at 0x7fb6036e0320>"
      ]
     },
     "execution_count": 19,
     "metadata": {},
     "output_type": "execute_result"
    }
   ],
   "source": [
    "import chart_studio\n",
    "import chart_studio.plotly as py\n",
    "chart_studio.tools.set_credentials_file(username='jarstone', api_key='ao4A1hWanJGvvocoTXlx')\n",
    "import plotly.figure_factory as ff\n",
    "\n",
    "\n",
    "import pandas as pd\n",
    "mpg = Data_Setup()\n",
    "\n",
    "fig = ff.create_facet_grid(\n",
    "    mpg,\n",
    "    x='Stress Tolerance',\n",
    "    y='A_MEAN',\n",
    "    facet_col='Job Zone',\n",
    "    \n",
    ")\n",
    "\n",
    "py.iplot(fig, filename='facet by col')"
   ]
  }
 ],
 "metadata": {
  "kernelspec": {
   "display_name": "Python 3",
   "language": "python",
   "name": "python3"
  },
  "language_info": {
   "codemirror_mode": {
    "name": "ipython",
    "version": 3
   },
   "file_extension": ".py",
   "mimetype": "text/x-python",
   "name": "python",
   "nbconvert_exporter": "python",
   "pygments_lexer": "ipython3",
   "version": "3.7.3"
  }
 },
 "nbformat": 4,
 "nbformat_minor": 2
}
