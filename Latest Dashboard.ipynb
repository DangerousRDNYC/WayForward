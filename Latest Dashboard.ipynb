{
 "cells": [
  {
   "cell_type": "code",
   "execution_count": null,
   "metadata": {},
   "outputs": [],
   "source": [
    "import pandas as pd\n",
    "import numpy as np\n",
    "def Data_Setup(SectorString=''):\n",
    "    salary_data = pd.read_csv('Occupation_Salary.csv') \n",
    "    workstyles = pd.read_csv('Work Styles.csv')\n",
    "    workstyles['Data Value'] = workstyles.apply(lambda x: x['Data Value']/(5), axis = 1 )\n",
    "\n",
    "    workstylespivot = pd.pivot_table(workstyles, values='Data Value', index=['O*NET-SOC Code'],\n",
    "                    columns=['Element Name'], aggfunc=np.sum)\n",
    "\n",
    "    jobzones = pd.read_csv('Job Zones.csv') \n",
    "\n",
    "    workvalues = pd.read_csv('Work Values.csv')\n",
    "    workvalues['Score'] = workvalues.apply(lambda x: x['Score']/7, axis = 1 )\n",
    "\n",
    "    workvaluespivot = pd.pivot_table(workvalues, values='Score', index=['SOC Code'],\n",
    "                    columns=['Element Name'], aggfunc=np.sum)\n",
    "\n",
    "    master_table = salary_data[['OCC_CODE', 'Adj Code', 'OCC_TITLE','A_MEAN']]\n",
    "    master_table['Sector'] = master_table['Adj Code'].str[:2]\n",
    "\n",
    "    master_table = master_table.merge(jobzones, left_on='OCC_CODE', right_on='O*NET-SOC Code')\n",
    "    master_table = master_table.merge(workvaluespivot, left_on='OCC_CODE', right_on='SOC Code')\n",
    "    master_table = master_table.merge(workstylespivot, left_on='OCC_CODE', right_on='O*NET-SOC Code')\n",
    "    master_table = master_table[master_table['Sector'] == SectorString]\n",
    "    master_table['Average Salary'] = master_table['A_MEAN']\n",
    "    return master_table\n"
   ]
  },
  {
   "cell_type": "code",
   "execution_count": null,
   "metadata": {},
   "outputs": [],
   "source": [
    "import chart_studio\n",
    "import chart_studio.plotly as py\n",
    "chart_studio.tools.set_credentials_file(username='jstone11', api_key='ptBpZ8MKLFEyTks2OGK1')\n",
    "import plotly.io as pio\n",
    "import plotly.graph_objs as go\n",
    "\n",
    "mpg = Data_Setup(SectorString='15')\n",
    "\n",
    "data = [dict(\n",
    "  type = 'scatter',\n",
    "  x=mpg['Achievement'],\n",
    "  y=mpg['Average Salary'],\n",
    "  mode = 'markers',\n",
    "  transforms = [dict(\n",
    "    type = 'filter',\n",
    "    target = mpg['Job Zone'],\n",
    "    orientation = '=',\n",
    "    value = '4. Considerable Prep'\n",
    "  )]\n",
    ")]\n",
    "\n",
    "\n",
    "\n",
    "\n",
    "layout = dict(title = 'Test Title')\n",
    "fig_dict = dict(data = data, layout = layout)\n",
    "\n",
    "pio.show(fig_dict, validate=False)\n"
   ]
  }
 ],
 "metadata": {
  "kernelspec": {
   "display_name": "Python 3",
   "language": "python",
   "name": "python3"
  },
  "language_info": {
   "codemirror_mode": {
    "name": "ipython",
    "version": 3
   },
   "file_extension": ".py",
   "mimetype": "text/x-python",
   "name": "python",
   "nbconvert_exporter": "python",
   "pygments_lexer": "ipython3",
   "version": "3.7.3"
  }
 },
 "nbformat": 4,
 "nbformat_minor": 2
}
