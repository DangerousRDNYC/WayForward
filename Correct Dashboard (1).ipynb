{
 "cells": [
  {
   "cell_type": "code",
   "execution_count": 46,
   "metadata": {
    "scrolled": false
   },
   "outputs": [],
   "source": [
    "import pandas as pd\n",
    "import numpy as np\n",
    "def Data_Setup(SectorString):\n",
    "    salary_data = pd.read_csv('Occupation_Salary.csv') \n",
    "    workstyles = pd.read_csv('Work Styles.csv')\n",
    "    workstyles['Data Value'] = workstyles.apply(lambda x: x['Data Value']/(5), axis = 1 )\n",
    "\n",
    "    workstylespivot = pd.pivot_table(workstyles, values='Data Value', index=['O*NET-SOC Code'],\n",
    "                    columns=['Element Name'], aggfunc=np.sum)\n",
    "\n",
    "    jobzones = pd.read_csv('Job Zones.csv') \n",
    "\n",
    "    workvalues = pd.read_csv('Work Values.csv')\n",
    "    workvalues['Score'] = workvalues.apply(lambda x: x['Score']/7, axis = 1 )\n",
    "\n",
    "    workvaluespivot = pd.pivot_table(workvalues, values='Score', index=['SOC Code'],\n",
    "                    columns=['Element Name'], aggfunc=np.sum)\n",
    "\n",
    "    master_table = salary_data[['OCC_CODE', 'Adj Code', 'OCC_TITLE','A_MEAN']]\n",
    "    master_table['Sector'] = master_table['Adj Code'].str[:2]\n",
    "    \n",
    "    \n",
    "    master_table = master_table.merge(jobzones, left_on='OCC_CODE', right_on='O*NET-SOC Code')\n",
    "    master_table = master_table.merge(workvaluespivot, left_on='OCC_CODE', right_on='SOC Code')\n",
    "    master_table = master_table.merge(workstylespivot, left_on='OCC_CODE', right_on='O*NET-SOC Code')\n",
    "    master_table = master_table[master_table['Sector'] == SectorString]\n",
    "    \n",
    "    return master_table\n",
    "\n",
    "\n",
    "\n",
    "    \n",
    "    "
   ]
  },
  {
   "cell_type": "code",
   "execution_count": 1,
   "metadata": {
    "scrolled": false
   },
   "outputs": [
    {
     "ename": "ModuleNotFoundError",
     "evalue": "No module named 'chart_studio'",
     "output_type": "error",
     "traceback": [
      "\u001b[0;31m---------------------------------------------------------------------------\u001b[0m",
      "\u001b[0;31mModuleNotFoundError\u001b[0m                       Traceback (most recent call last)",
      "\u001b[0;32m<ipython-input-1-257174b1fc62>\u001b[0m in \u001b[0;36m<module>\u001b[0;34m\u001b[0m\n\u001b[0;32m----> 1\u001b[0;31m \u001b[0;32mimport\u001b[0m \u001b[0mchart_studio\u001b[0m\u001b[0;34m\u001b[0m\u001b[0;34m\u001b[0m\u001b[0m\n\u001b[0m\u001b[1;32m      2\u001b[0m \u001b[0;32mimport\u001b[0m \u001b[0mchart_studio\u001b[0m\u001b[0;34m.\u001b[0m\u001b[0mplotly\u001b[0m \u001b[0;32mas\u001b[0m \u001b[0mpy\u001b[0m\u001b[0;34m\u001b[0m\u001b[0;34m\u001b[0m\u001b[0m\n\u001b[1;32m      3\u001b[0m \u001b[0mchart_studio\u001b[0m\u001b[0;34m.\u001b[0m\u001b[0mtools\u001b[0m\u001b[0;34m.\u001b[0m\u001b[0mset_credentials_file\u001b[0m\u001b[0;34m(\u001b[0m\u001b[0musername\u001b[0m\u001b[0;34m=\u001b[0m\u001b[0;34m'jstone11'\u001b[0m\u001b[0;34m,\u001b[0m \u001b[0mapi_key\u001b[0m\u001b[0;34m=\u001b[0m\u001b[0;34m'VMhFeM8k0oykKfvkY0Ud'\u001b[0m\u001b[0;34m)\u001b[0m\u001b[0;34m\u001b[0m\u001b[0;34m\u001b[0m\u001b[0m\n\u001b[1;32m      4\u001b[0m \u001b[0;32mimport\u001b[0m \u001b[0mplotly\u001b[0m\u001b[0;34m.\u001b[0m\u001b[0mexpress\u001b[0m \u001b[0;32mas\u001b[0m \u001b[0mpx\u001b[0m\u001b[0;34m\u001b[0m\u001b[0;34m\u001b[0m\u001b[0m\n\u001b[1;32m      5\u001b[0m \u001b[0;34m\u001b[0m\u001b[0m\n",
      "\u001b[0;31mModuleNotFoundError\u001b[0m: No module named 'chart_studio'"
     ]
    }
   ],
   "source": [
    "import chart_studio\n",
    "import chart_studio.plotly as py\n",
    "chart_studio.tools.set_credentials_file(username='jstone11', api_key='VMhFeM8k0oykKfvkY0Ud')\n",
    "import plotly.express as px\n",
    "\n",
    "\n",
    "import pandas as pd\n",
    "mpg = Data_Setup(SectorString='15')\n",
    "\n",
    "fig = px.scatter(\n",
    "    mpg,\n",
    "    x='Achievement',\n",
    "    y='A_MEAN',\n",
    "    facet_col='Job Zone',\n",
    "    hover_name= 'OCC_TITLE',\n",
    "    category_orders={\"Job Zone\": [\"1. No Prep\", \"2. Some Prep\", \"3. Medium Prep\", \"4. Considerable Prep\", \"5. Extensive prep\"]}\n",
    "\n",
    ")\n",
    "\n",
    "py.iplot(fig)"
   ]
  },
  {
   "cell_type": "code",
   "execution_count": 47,
   "metadata": {},
   "outputs": [
    {
     "data": {
      "application/vnd.jupyter.widget-view+json": {
       "model_id": "2d2f612db03e4efba804df032ae0bf18",
       "version_major": 2,
       "version_minor": 0
      },
      "text/plain": [
       "Dropdown(description='Number:', index=1, options=(('One', 1), ('Two', 2), ('Three', '15')), value=2)"
      ]
     },
     "metadata": {},
     "output_type": "display_data"
    }
   ],
   "source": [
    "import ipywidgets as widgets\n",
    "qdrop = widgets.Dropdown(options=[('One', 1), ('Two', 2), ('Three', '15')],value=2,description='Number:',disabled=False)\n",
    "\n",
    "\n",
    "\n",
    "def qdrop_eventhandler(change):\n",
    "    print (change.new)\n",
    "    print (type(change.new))\n",
    "    display(Data_Setup(SectorString=change.new))\n",
    "\n",
    "qdrop.observe(qdrop_eventhandler, names ='value')\n",
    "display(qdrop) \n"
   ]
  },
  {
   "cell_type": "code",
   "execution_count": null,
   "metadata": {},
   "outputs": [],
   "source": []
  }
 ],
 "metadata": {
  "kernelspec": {
   "display_name": "Python 3",
   "language": "python",
   "name": "python3"
  },
  "language_info": {
   "codemirror_mode": {
    "name": "ipython",
    "version": 3
   },
   "file_extension": ".py",
   "mimetype": "text/x-python",
   "name": "python",
   "nbconvert_exporter": "python",
   "pygments_lexer": "ipython3",
   "version": "3.7.3"
  }
 },
 "nbformat": 4,
 "nbformat_minor": 2
}
