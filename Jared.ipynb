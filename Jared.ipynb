{
 "cells": [
  {
   "cell_type": "code",
   "execution_count": null,
   "metadata": {},
   "outputs": [],
   "source": [
    "import plotly\n",
    "import plotly.plotly as py\n",
    "plotly.tools.set_credentials_file(username='jarstone', api_key='ao4A1hWanJGvvocoTXlx')\n",
    "import plotly.figure_factory as ff\n",
    "\n",
    "import pandas as pd\n",
    "mpg = pd.read_csv('https://raw.githubusercontent.com/plotly/datasets/master/mpg_2017.txt',delimiter = \"\\t\")\n",
    "\n",
    "fig = ff.create_facet_grid(\n",
    "    mpg,\n",
    "    x='displ',\n",
    "    y='cty',\n",
    "    facet_col='cyl',\n",
    "    \n",
    ")\n",
    "\n",
    "py.iplot(fig, filename='facet by col')\n"
   ]
  }
 ],
 "metadata": {
  "kernelspec": {
   "display_name": "Python 3",
   "language": "python",
   "name": "python3"
  },
  "language_info": {
   "codemirror_mode": {
    "name": "ipython",
    "version": 3
   },
   "file_extension": ".py",
   "mimetype": "text/x-python",
   "name": "python",
   "nbconvert_exporter": "python",
   "pygments_lexer": "ipython3",
   "version": "3.7.3"
  }
 },
 "nbformat": 4,
 "nbformat_minor": 2
}
