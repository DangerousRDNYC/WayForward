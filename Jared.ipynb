import plotly
import plotly.plotly as py
plotly.tools.set_credentials_file(username='jarstone', api_key='ao4A1hWanJGvvocoTXlx')
import plotly.figure_factory as ff

import pandas as pd
mpg = pd.read_csv('https://raw.githubusercontent.com/plotly/datasets/master/mpg_2017.txt',delimiter = "\t")

fig = ff.create_facet_grid(
    mpg,
    x='displ',
    y='cty',
    facet_col='cyl',
    
)

py.iplot(fig, filename='facet by col')
