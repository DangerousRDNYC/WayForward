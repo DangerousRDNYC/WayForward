{
 "cells": [
  {
   "cell_type": "code",
   "execution_count": 19,
   "metadata": {
    "scrolled": false
   },
   "outputs": [],
   "source": [
    "import pandas as pd\n",
    "import numpy as np\n",
    "def Data_Setup(SectorString):\n",
    "    salary_data = pd.read_csv('Occupation_Salary.csv') \n",
    "    workstyles = pd.read_csv('Work Styles.csv')\n",
    "    workstyles['Data Value'] = workstyles.apply(lambda x: x['Data Value']/(5), axis = 1 )\n",
    "\n",
    "    workstylespivot = pd.pivot_table(workstyles, values='Data Value', index=['O*NET-SOC Code'],\n",
    "                    columns=['Element Name'], aggfunc=np.sum)\n",
    "\n",
    "    jobzones = pd.read_csv('Job Zones.csv') \n",
    "\n",
    "    workvalues = pd.read_csv('Work Values.csv')\n",
    "    workvalues['Score'] = workvalues.apply(lambda x: x['Score']/7, axis = 1 )\n",
    "\n",
    "    workvaluespivot = pd.pivot_table(workvalues, values='Score', index=['SOC Code'],\n",
    "                    columns=['Element Name'], aggfunc=np.sum)\n",
    "\n",
    "    master_table = salary_data[['OCC_CODE', 'Adj Code', 'OCC_TITLE','A_MEAN']]\n",
    "    master_table['Sector'] = master_table['Adj Code'].str[:2]\n",
    "    \n",
    "    \n",
    "    master_table = master_table.merge(jobzones, left_on='OCC_CODE', right_on='O*NET-SOC Code')\n",
    "    master_table = master_table.merge(workvaluespivot, left_on='OCC_CODE', right_on='SOC Code')\n",
    "    master_table = master_table.merge(workstylespivot, left_on='OCC_CODE', right_on='O*NET-SOC Code')\n",
    "    master_table = master_table[master_table['Sector'] == SectorString]\n",
    " \n",
    "    return master_table\n",
    "\n",
    "\n",
    "\n",
    "    \n",
    "    "
   ]
  },
  {
   "cell_type": "code",
   "execution_count": 23,
   "metadata": {
    "scrolled": false
   },
   "outputs": [
    {
     "name": "stderr",
     "output_type": "stream",
     "text": [
      "/srv/conda/envs/notebook/lib/python3.7/site-packages/ipykernel_launcher.py:20: SettingWithCopyWarning:\n",
      "\n",
      "\n",
      "A value is trying to be set on a copy of a slice from a DataFrame.\n",
      "Try using .loc[row_indexer,col_indexer] = value instead\n",
      "\n",
      "See the caveats in the documentation: http://pandas.pydata.org/pandas-docs/stable/user_guide/indexing.html#returning-a-view-versus-a-copy\n",
      "\n"
     ]
    }
   ],
   "source": [
    "import chart_studio\n",
    "import chart_studio.plotly as py\n",
    "chart_studio.tools.set_credentials_file(username='jstone11', api_key='VMhFeM8k0oykKfvkY0Ud')\n",
    "import plotly.express as px\n",
    "import pandas as pd\n",
    "\n",
    "def Display_Chart():\n",
    "    mpg = Data_Setup(SectorString='33')\n",
    "\n",
    "    fig = px.scatter(\n",
    "        mpg,\n",
    "        x='Achievement',\n",
    "        y='A_MEAN',\n",
    "        facet_col='Job Zone',\n",
    "        hover_name= 'OCC_TITLE',\n",
    "        category_orders={\"Job Zone\": [\"1. No Prep\", \"2. Some Prep\", \"3. Medium Prep\", \"4. Considerable Prep\", \"5. Extensive prep\"]}\n",
    "\n",
    "    )\n",
    "\n",
    "    py.iplot(fig)\n",
    "Display_Chart()"
   ]
  },
  {
   "cell_type": "code",
   "execution_count": 21,
   "metadata": {
    "scrolled": true
   },
   "outputs": [
    {
     "name": "stderr",
     "output_type": "stream",
     "text": [
      "/srv/conda/envs/notebook/lib/python3.7/site-packages/ipykernel_launcher.py:20: SettingWithCopyWarning:\n",
      "\n",
      "\n",
      "A value is trying to be set on a copy of a slice from a DataFrame.\n",
      "Try using .loc[row_indexer,col_indexer] = value instead\n",
      "\n",
      "See the caveats in the documentation: http://pandas.pydata.org/pandas-docs/stable/user_guide/indexing.html#returning-a-view-versus-a-copy\n",
      "\n"
     ]
    }
   ],
   "source": [
    "import ipywidgets as widgets\n",
    "from IPython.display import clear_output\n",
    "#print (group_data['Grouping'])\n",
    "\n",
    "\n",
    "group_data = ('Management', '11'), ('Business and finance', '2'), ('Computers and mathematics', '15'), ('Architecture and engineering', '17'), ('Life, physical, and social science', '19'), ('Community and social service' , '21'), ('Legal'\n",
    ", '23'), ('Education, training, and library occupations', '25'), ('Arts, design, entertainment, sports, and media occupations'\n",
    " , '27') , ('Healthcare' , '29') , ('Protective Service' , '33'), ('Food Preperation', '35'), ('Building Maintanance', '37'), ('Personal Care', '39'), ('Sales', '41'), ('Office & Admin', '43'), ('Farming & Fishing', '45'), ('Construction', '47'), ('Installation', '49'), ('Production', '51'), ('Transportation', '53')\n",
    "\n",
    "qdrop = widgets.Dropdown(options=group_data,value='15',description='Number:',disabled=False)\n",
    "#dropdown_year = widgets.Dropdown(options =    unique_sorted_values_plus_ALL(df_london.year))\n",
    "\n",
    "\n",
    "#def qdrop_eventhandler(change):\n",
    "    \n",
    "#    display(Data_Setup(SectorString=change.new))\n",
    "    \n",
    "#qdrop.observe(qdrop_eventhandler, names ='value')\n",
    "#clear_output()\n",
    "#display(qdrop) \n"
   ]
  }
 ],
 "metadata": {
  "kernelspec": {
   "display_name": "Python 3",
   "language": "python",
   "name": "python3"
  },
  "language_info": {
   "codemirror_mode": {
    "name": "ipython",
    "version": 3
   },
   "file_extension": ".py",
   "mimetype": "text/x-python",
   "name": "python",
   "nbconvert_exporter": "python",
   "pygments_lexer": "ipython3",
   "version": "3.7.3"
  }
 },
 "nbformat": 4,
 "nbformat_minor": 2
}
